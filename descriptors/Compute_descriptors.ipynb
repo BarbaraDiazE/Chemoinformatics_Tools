{
 "cells": [
  {
   "cell_type": "markdown",
   "metadata": {},
   "source": [
    "In this notebook we physicochemical descriptors from SMILES"
   ]
  },
  {
   "cell_type": "code",
   "execution_count": 1,
   "metadata": {},
   "outputs": [],
   "source": [
    "import pandas as pd\n",
    "import numpy as np\n",
    "import os\n",
    "\n",
    "from descriptors import compute_descriptors"
   ]
  },
  {
   "cell_type": "markdown",
   "metadata": {},
   "source": [
    "\"\"\"Get data\"\"\""
   ]
  },
  {
   "cell_type": "code",
   "execution_count": 2,
   "metadata": {},
   "outputs": [],
   "source": [
    "#load file\n",
    "input_file = \"BIOFACQUIM.csv\"\n",
    "data = pd.read_csv(input_file, sep = \",\")   "
   ]
  },
  {
   "cell_type": "code",
   "execution_count": 3,
   "metadata": {},
   "outputs": [
    {
     "data": {
      "text/html": [
       "<div>\n",
       "<style scoped>\n",
       "    .dataframe tbody tr th:only-of-type {\n",
       "        vertical-align: middle;\n",
       "    }\n",
       "\n",
       "    .dataframe tbody tr th {\n",
       "        vertical-align: top;\n",
       "    }\n",
       "\n",
       "    .dataframe thead th {\n",
       "        text-align: right;\n",
       "    }\n",
       "</style>\n",
       "<table border=\"1\" class=\"dataframe\">\n",
       "  <thead>\n",
       "    <tr style=\"text-align: right;\">\n",
       "      <th></th>\n",
       "      <th>Unnamed: 0</th>\n",
       "      <th>Library</th>\n",
       "      <th>SMILES</th>\n",
       "    </tr>\n",
       "  </thead>\n",
       "  <tbody>\n",
       "    <tr>\n",
       "      <th>0</th>\n",
       "      <td>0</td>\n",
       "      <td>BIOFACQUIM 2V</td>\n",
       "      <td>c1(C2OCC3C(c4cc5OCOc5cc4)OCC23)cc2OCOc2cc1</td>\n",
       "    </tr>\n",
       "    <tr>\n",
       "      <th>1</th>\n",
       "      <td>1</td>\n",
       "      <td>BIOFACQUIM 2V</td>\n",
       "      <td>[C@H](CCC(C(=C)C)(C)C)(C)[C@@H]1[C@]2(C)[C@](C...</td>\n",
       "    </tr>\n",
       "    <tr>\n",
       "      <th>2</th>\n",
       "      <td>2</td>\n",
       "      <td>BIOFACQUIM 2V</td>\n",
       "      <td>S=C=N[C@@]1(C)[C@H]2[C@@](C)(CC[C@@](OO)(C(=C)...</td>\n",
       "    </tr>\n",
       "    <tr>\n",
       "      <th>3</th>\n",
       "      <td>3</td>\n",
       "      <td>BIOFACQUIM 2V</td>\n",
       "      <td>S=C=N[C@@]1(C)[C@H]2[C@@](C)(CC[C@@](O)(C(=C)C...</td>\n",
       "    </tr>\n",
       "    <tr>\n",
       "      <th>4</th>\n",
       "      <td>4</td>\n",
       "      <td>BIOFACQUIM 2V</td>\n",
       "      <td>S(CCC(=O)N)[C@H]1c2c(OC)cccc2-c2c(OC)c(OC)cc3C...</td>\n",
       "    </tr>\n",
       "  </tbody>\n",
       "</table>\n",
       "</div>"
      ],
      "text/plain": [
       "   Unnamed: 0        Library  \\\n",
       "0           0  BIOFACQUIM 2V   \n",
       "1           1  BIOFACQUIM 2V   \n",
       "2           2  BIOFACQUIM 2V   \n",
       "3           3  BIOFACQUIM 2V   \n",
       "4           4  BIOFACQUIM 2V   \n",
       "\n",
       "                                              SMILES  \n",
       "0         c1(C2OCC3C(c4cc5OCOc5cc4)OCC23)cc2OCOc2cc1  \n",
       "1  [C@H](CCC(C(=C)C)(C)C)(C)[C@@H]1[C@]2(C)[C@](C...  \n",
       "2  S=C=N[C@@]1(C)[C@H]2[C@@](C)(CC[C@@](OO)(C(=C)...  \n",
       "3  S=C=N[C@@]1(C)[C@H]2[C@@](C)(CC[C@@](O)(C(=C)C...  \n",
       "4  S(CCC(=O)N)[C@H]1c2c(OC)cccc2-c2c(OC)c(OC)cc3C...  "
      ]
     },
     "execution_count": 3,
     "metadata": {},
     "output_type": "execute_result"
    }
   ],
   "source": [
    "#visualize data\n",
    "data.head()"
   ]
  },
  {
   "cell_type": "code",
   "execution_count": 4,
   "metadata": {},
   "outputs": [
    {
     "data": {
      "text/plain": [
       "['c1(C2OCC3C(c4cc5OCOc5cc4)OCC23)cc2OCOc2cc1',\n",
       " '[C@H](CCC(C(=C)C)(C)C)(C)[C@@H]1[C@]2(C)[C@](C)(C3[C@](C)([C@]45O[C@H](C(C)(C)C4CC3)CC5)CC2)CC1',\n",
       " 'S=C=N[C@@]1(C)[C@H]2[C@@](C)(CC[C@@](OO)(C(=C)C)C2)CCC1',\n",
       " 'S=C=N[C@@]1(C)[C@H]2[C@@](C)(CC[C@@](O)(C(=C)C)C2)CCC1',\n",
       " 'S(CCC(=O)N)[C@H]1c2c(OC)cccc2-c2c(OC)c(OC)cc3C(=O)ON=C1c23']"
      ]
     },
     "execution_count": 4,
     "metadata": {},
     "output_type": "execute_result"
    }
   ],
   "source": [
    "#SMILES into list\n",
    "smiles = list(data[\"SMILES\"])\n",
    "smiles[:5]"
   ]
  },
  {
   "cell_type": "code",
   "execution_count": 5,
   "metadata": {},
   "outputs": [],
   "source": [
    "#Library into list \n",
    "library = list(data[\"Library\"])"
   ]
  },
  {
   "cell_type": "markdown",
   "metadata": {},
   "source": [
    "\"\"\"Compute descriptors\"\"\""
   ]
  },
  {
   "cell_type": "code",
   "execution_count": 6,
   "metadata": {},
   "outputs": [],
   "source": [
    "#compute descriptors with function \"compute_descriptors\"\n",
    "CanonicalSmiles, HBA, HBD, RB, LOGP, TPSA, MW = compute_descriptors(smiles)"
   ]
  },
  {
   "cell_type": "code",
   "execution_count": 7,
   "metadata": {},
   "outputs": [],
   "source": [
    "# storage results\n",
    "data = {\n",
    "        \"Library\": library,\n",
    "        \"SMILES\": CanonicalSmiles,\n",
    "        \"HBA\": HBA,\n",
    "        \"HBD\": HBD,\n",
    "        \"RB\": RB,\n",
    "        \"LOGP\": LOGP,\n",
    "        \"TPSA\": TPSA,\n",
    "        \"MW\": MW,\n",
    "}"
   ]
  },
  {
   "cell_type": "markdown",
   "metadata": {},
   "source": [
    "\"\"\"Write results\"\"\""
   ]
  },
  {
   "cell_type": "code",
   "execution_count": 8,
   "metadata": {},
   "outputs": [
    {
     "data": {
      "text/html": [
       "<div>\n",
       "<style scoped>\n",
       "    .dataframe tbody tr th:only-of-type {\n",
       "        vertical-align: middle;\n",
       "    }\n",
       "\n",
       "    .dataframe tbody tr th {\n",
       "        vertical-align: top;\n",
       "    }\n",
       "\n",
       "    .dataframe thead th {\n",
       "        text-align: right;\n",
       "    }\n",
       "</style>\n",
       "<table border=\"1\" class=\"dataframe\">\n",
       "  <thead>\n",
       "    <tr style=\"text-align: right;\">\n",
       "      <th></th>\n",
       "      <th>Library</th>\n",
       "      <th>SMILES</th>\n",
       "      <th>HBA</th>\n",
       "      <th>HBD</th>\n",
       "      <th>RB</th>\n",
       "      <th>LOGP</th>\n",
       "      <th>TPSA</th>\n",
       "      <th>MW</th>\n",
       "    </tr>\n",
       "  </thead>\n",
       "  <tbody>\n",
       "    <tr>\n",
       "      <th>0</th>\n",
       "      <td>BIOFACQUIM 2V</td>\n",
       "      <td>c1cc2c(cc1C1OCC3C(c4ccc5c(c4)OCO5)OCC13)OCO2</td>\n",
       "      <td>6</td>\n",
       "      <td>0</td>\n",
       "      <td>2</td>\n",
       "      <td>3.2192</td>\n",
       "      <td>55.38</td>\n",
       "      <td>354.358</td>\n",
       "    </tr>\n",
       "    <tr>\n",
       "      <th>1</th>\n",
       "      <td>BIOFACQUIM 2V</td>\n",
       "      <td>C=C(C)C(C)(C)CC[C@@H](C)[C@H]1CC[C@@]2(C)C3CCC...</td>\n",
       "      <td>1</td>\n",
       "      <td>0</td>\n",
       "      <td>5</td>\n",
       "      <td>9.2115</td>\n",
       "      <td>9.23</td>\n",
       "      <td>454.783</td>\n",
       "    </tr>\n",
       "    <tr>\n",
       "      <th>2</th>\n",
       "      <td>BIOFACQUIM 2V</td>\n",
       "      <td>C=C(C)[C@]1(OO)CC[C@@]2(C)CCC[C@@](C)(N=C=S)[C...</td>\n",
       "      <td>4</td>\n",
       "      <td>1</td>\n",
       "      <td>3</td>\n",
       "      <td>4.6427</td>\n",
       "      <td>41.82</td>\n",
       "      <td>295.448</td>\n",
       "    </tr>\n",
       "    <tr>\n",
       "      <th>3</th>\n",
       "      <td>BIOFACQUIM 2V</td>\n",
       "      <td>C=C(C)[C@]1(O)CC[C@@]2(C)CCC[C@@](C)(N=C=S)[C@...</td>\n",
       "      <td>3</td>\n",
       "      <td>1</td>\n",
       "      <td>2</td>\n",
       "      <td>4.1454</td>\n",
       "      <td>32.59</td>\n",
       "      <td>279.449</td>\n",
       "    </tr>\n",
       "    <tr>\n",
       "      <th>4</th>\n",
       "      <td>BIOFACQUIM 2V</td>\n",
       "      <td>COc1cc2c(=O)onc3c2c(c1OC)-c1cccc(OC)c1[C@@H]3S...</td>\n",
       "      <td>8</td>\n",
       "      <td>1</td>\n",
       "      <td>7</td>\n",
       "      <td>2.8922</td>\n",
       "      <td>113.88</td>\n",
       "      <td>428.466</td>\n",
       "    </tr>\n",
       "  </tbody>\n",
       "</table>\n",
       "</div>"
      ],
      "text/plain": [
       "         Library                                             SMILES  HBA  HBD  \\\n",
       "0  BIOFACQUIM 2V       c1cc2c(cc1C1OCC3C(c4ccc5c(c4)OCO5)OCC13)OCO2    6    0   \n",
       "1  BIOFACQUIM 2V  C=C(C)C(C)(C)CC[C@@H](C)[C@H]1CC[C@@]2(C)C3CCC...    1    0   \n",
       "2  BIOFACQUIM 2V  C=C(C)[C@]1(OO)CC[C@@]2(C)CCC[C@@](C)(N=C=S)[C...    4    1   \n",
       "3  BIOFACQUIM 2V  C=C(C)[C@]1(O)CC[C@@]2(C)CCC[C@@](C)(N=C=S)[C@...    3    1   \n",
       "4  BIOFACQUIM 2V  COc1cc2c(=O)onc3c2c(c1OC)-c1cccc(OC)c1[C@@H]3S...    8    1   \n",
       "\n",
       "   RB    LOGP    TPSA       MW  \n",
       "0   2  3.2192   55.38  354.358  \n",
       "1   5  9.2115    9.23  454.783  \n",
       "2   3  4.6427   41.82  295.448  \n",
       "3   2  4.1454   32.59  279.449  \n",
       "4   7  2.8922  113.88  428.466  "
      ]
     },
     "execution_count": 8,
     "metadata": {},
     "output_type": "execute_result"
    }
   ],
   "source": [
    "#write DataFrame\n",
    "DF = pd.DataFrame.from_dict(data)\n",
    "DF.head(5)"
   ]
  },
  {
   "cell_type": "code",
   "execution_count": 9,
   "metadata": {},
   "outputs": [],
   "source": [
    "#write csv\n",
    "DF.to_csv(\"biofacquim_descriptors.csv\", sep=\",\")"
   ]
  },
  {
   "cell_type": "code",
   "execution_count": null,
   "metadata": {},
   "outputs": [],
   "source": []
  }
 ],
 "metadata": {
  "kernelspec": {
   "display_name": "Python 3",
   "language": "python",
   "name": "python3"
  },
  "language_info": {
   "codemirror_mode": {
    "name": "ipython",
    "version": 3
   },
   "file_extension": ".py",
   "mimetype": "text/x-python",
   "name": "python",
   "nbconvert_exporter": "python",
   "pygments_lexer": "ipython3",
   "version": "3.6.10"
  }
 },
 "nbformat": 4,
 "nbformat_minor": 2
}
